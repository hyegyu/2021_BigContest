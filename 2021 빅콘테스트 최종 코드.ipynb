{
 "cells": [
  {
   "cell_type": "markdown",
   "metadata": {},
   "source": [
    "<span style='color:#F8766D;font-size:20px'>데이터 전처리 단계</span> "
   ]
  },
  {
   "cell_type": "markdown",
   "metadata": {},
   "source": [
    "<p style='font-size:15px'>필요한 패키지 불러오기</p> "
   ]
  },
  {
   "cell_type": "code",
   "execution_count": 6,
   "metadata": {},
   "outputs": [],
   "source": [
    "import pandas as pd\n",
    "import numpy as np"
   ]
  },
  {
   "cell_type": "markdown",
   "metadata": {},
   "source": [
    "<p style='font-size:15px'>불필요한 메모리 줄이기</p> "
   ]
  },
  {
   "cell_type": "code",
   "execution_count": 7,
   "metadata": {},
   "outputs": [],
   "source": [
    "def reduce_mem_usage(df):\n",
    "    \"\"\" iterate through all the columns of a dataframe and modify the data type\n",
    "        to reduce memory usage.        \n",
    "    \"\"\"\n",
    "\n",
    "    for col in df.columns:\n",
    "        col_type = df[col].dtype\n",
    "\n",
    "        if col_type != object:\n",
    "            c_min = df[col].min()\n",
    "            c_max = df[col].max()\n",
    "            if str(col_type)[:3] == 'int':\n",
    "                if c_min > np.iinfo(np.int8).min and c_max < np.iinfo(np.int8).max:\n",
    "                    df[col] = df[col].astype(np.int8)\n",
    "                elif c_min > np.iinfo(np.int16).min and c_max < np.iinfo(np.int16).max:\n",
    "                    df[col] = df[col].astype(np.int16)\n",
    "                elif c_min > np.iinfo(np.int32).min and c_max < np.iinfo(np.int32).max:\n",
    "                    df[col] = df[col].astype(np.int32)\n",
    "                elif c_min > np.iinfo(np.int64).min and c_max < np.iinfo(np.int64).max:\n",
    "                    df[col] = df[col].astype(np.int64)  \n",
    "            else:\n",
    "                if c_min > np.finfo(np.float16).min and c_max < np.finfo(np.float16).max:\n",
    "                    df[col] = df[col].astype(np.float16)\n",
    "                elif c_min > np.finfo(np.float32).min and c_max < np.finfo(np.float32).max:\n",
    "                    df[col] = df[col].astype(np.float32)\n",
    "                else:\n",
    "                    df[col] = df[col].astype(np.float64)\n",
    "\n",
    "    return df"
   ]
  },
  {
   "cell_type": "markdown",
   "metadata": {},
   "source": [
    "<p style='font-size:15px'>제공 데이터 세트 불러오기</p> "
   ]
  },
  {
   "cell_type": "code",
   "execution_count": 8,
   "metadata": {},
   "outputs": [
    {
     "name": "stderr",
     "output_type": "stream",
     "text": [
      "C:\\Users\\jeongmi\\anaconda3\\lib\\site-packages\\IPython\\core\\interactiveshell.py:3146: DtypeWarning: Columns (2) have mixed types.Specify dtype option on import or set low_memory=False.\n",
      "  has_raised = await self.run_ast_nodes(code_ast.body, cell_name,\n"
     ]
    }
   ],
   "source": [
    "#음식물 쓰레기 데이터 \n",
    "food_waste=pd.read_csv(r\"F:\\2021 빅콘테스트 데이터\\01_제공데이터_update(210811)\\01_음식물쓰레기_FOOD_WASTE_210811_update.CSV\",encoding = 'cp949')\n",
    "#장기체류 외국인 유동인구 데이터\n",
    "long_term_frgn = pd.read_csv(\"C:/users/yhg31/OneDrive/바탕 화면/데이터파일/2021빅콘테스트_제공데이터/02-2_장기체류 외국인 유동인구_LONG_TERM_FRGN.csv\", encoding='cp949')\n",
    "#단기체류 외국인 유동인구 데이터 \n",
    "short_term_frgn=pd.read_csv(r'F:\\2021 빅콘테스트 데이터\\01_제공데이터_update(210811)\\02-3_단기체류 외국인 유동인구_SHORT_TERM_FRGN.CSV',encoding = 'cp949')\n",
    "#거주인구 데이터 \n",
    "resident_pop=pd.read_csv(r'F:\\2021 빅콘테스트 데이터\\01_제공데이터_update(210811)\\03_거주인구_RESIDENT_POP.CSV',encoding = 'cp949')\n",
    "#음식관련 카드소비 데이터 \n",
    "card_spending=pd.read_csv(r'F:\\2021 빅콘테스트 데이터\\01_제공데이터_update(210811)\\04_음식관련 카드소비_CARD_SPENDING.CSV',encoding = 'cp949')\n",
    "#내국인 데이터\n",
    "korean = pd.read_csv(\"C:/users/yhg31/OneDrive/바탕 화면/데이터파일/2021빅콘테스트_제공데이터/02-1_내국인유동인구_KOREAN.csv\", encoding='cp949')"
   ]
  },
  {
   "cell_type": "markdown",
   "metadata": {},
   "source": [
    "<p style='font-size:15px'>데이터 세트별 행정동 개수(빈도)</p> "
   ]
  },
  {
   "cell_type": "code",
   "execution_count": null,
   "metadata": {},
   "outputs": [],
   "source": [
    "food_waste['emd_nm'].value_counts()\n",
    "long_term_frgn['emd_nm'].value_counts()\n",
    "short_term_frgn['emd_nm'].value_counts()\n",
    "resident_pop['emd_nm'].value_counts()\n",
    "card_spending['emd_nm'].value_counts()\n",
    "korean['emd_nm'].value_counts()"
   ]
  },
  {
   "cell_type": "markdown",
   "metadata": {},
   "source": [
    "<p style='font-size:15px'>데이터 시계열 수정(0000-00-00 -> 연도, 월</p> "
   ]
  },
  {
   "cell_type": "code",
   "execution_count": null,
   "metadata": {},
   "outputs": [],
   "source": [
    "food_waste['year'] = pd.to_datetime(food_waste['base_date'], errors='coerce').apply(lambda x: str(x).split('-')[0] if x != np.nan else np.nan)\n",
    "food_waste['month'] = pd.to_datetime(food_waste['base_date'], errors='coerce').apply(lambda x: str(x).split('-')[1] if x != np.nan else np.nan)\n",
    "\n",
    "short_term_frgn['year'] = pd.to_datetime(short_term_frgn['base_date'], errors='coerce').apply(lambda x: str(x).split('-')[0] if x != np.nan else np.nan)\n",
    "short_term_frgn['month'] = pd.to_datetime(short_term_frgn['base_date'], errors='coerce').apply(lambda x: str(x).split('-')[1] if x != np.nan else np.nan)\n",
    "\n",
    "resident_pop.rename(columns={'base_year':'year'},inplace=True)\n",
    "resident_pop.rename(columns={'base_month':'month'},inplace=True)\n",
    "\n",
    "card_spending['year'] = pd.to_datetime(card_spending['base_date'], errors='coerce').apply(lambda x: str(x).split('-')[0] if x != np.nan else np.nan)\n",
    "card_spending['month'] = pd.to_datetime(card_spending['base_date'], errors='coerce').apply(lambda x: str(x).split('-')[1] if x != np.nan else np.nan)\n",
    "\n",
    "korean['year'] = pd.to_datetime(card_spending['base_date'], errors='coerce').apply(lambda x: str(x).split('-')[0] if x != np.nan else np.nan)\n",
    "korean['month'] = pd.to_datetime(card_spending['base_date'], errors='coerce').apply(lambda x: str(x).split('-')[1] if x != np.nan else np.nan)\n",
    "\n",
    "long_term_frgn['year'] = pd.to_datetime(card_spending['base_date'], errors='coerce').apply(lambda x: str(x).split('-')[0] if x != np.nan else np.nan)\n",
    "long_term_frgn['month'] = pd.to_datetime(card_spending['base_date'], errors='coerce').apply(lambda x: str(x).split('-')[1] if x != np.nan else np.nan)"
   ]
  },
  {
   "cell_type": "markdown",
   "metadata": {},
   "source": [
    "<p style='font-size:15px'>분석에 불필요한 데이터 행 제거</p> "
   ]
  },
  {
   "cell_type": "code",
   "execution_count": null,
   "metadata": {},
   "outputs": [],
   "source": [
    "food_waste=food_waste.drop('base_date', axis=1)\n",
    "food_waste=food_waste.drop('emd_cd', axis=1)\n",
    "food_waste=food_waste.drop('em_area_cd', axis=1)\n",
    "\n",
    "short_term_frgn=short_term_frgn.drop('time', axis=1)\n",
    "short_term_frgn=short_term_frgn.drop('nationality', axis=1)\n",
    "short_term_frgn=short_term_frgn.drop('emd_cd', axis=1)\n",
    "short_term_frgn=short_term_frgn.drop('base_date', axis=1)\n",
    "\n",
    "resident_pop=resident_pop.drop('city', axis=1)\n",
    "resident_pop=resident_pop.drop('emd_cd', axis=1)\n",
    "resident_pop=resident_pop.drop('sex', axis=1)\n",
    "\n",
    "card_spending=card_spending.drop('base_date', axis=1)\n",
    "card_spending=card_spending.drop('city', axis=1)\n",
    "card_spending=card_spending.drop('emd_cd', axis=1)\n",
    "card_spending=card_spending.drop('mct_cat_cd', axis=1)\n",
    "card_spending=card_spending.drop('mct_cat_nm', axis=1)\n",
    "\n",
    "korean=korean.drop('emd_cd', axis=1)\n",
    "korean=korean.drop('dity', axis=1)\n",
    "korean=korean.drop('sex', axis=1)\n",
    "korean=korean.drop('base_date', axis=1)\n",
    "\n",
    "long_term_frgn=long_term_frgn.drop('time', axis=1)\n",
    "long_term_frgn=long_term_frgn.drop('nationality', axis=1)\n",
    "long_term_frgn=long_term_frgn.drop('city', axis=1)\n",
    "long_term_frgn=long_term_frgn.drop('emd_cd', axis=1)\n",
    "long_term_frgn=long_term_frgn.drop('resd', axis=1)\n",
    "long_term_frgn=long_term_frgn.drop('base_date', axis=1)"
   ]
  },
  {
   "cell_type": "markdown",
   "metadata": {},
   "source": [
    "<p style='font-size:15px'>데이터 행정동, 연도, 월별로 그룹화</p> "
   ]
  },
  {
   "cell_type": "code",
   "execution_count": null,
   "metadata": {},
   "outputs": [],
   "source": [
    "food_waste=food_waste.groupby(['emd_nm','year','month']).sum()\n",
    "short_term_frgn=short_term_frgn.groupby(['emd_nm','year','month']).sum()\n",
    "resident_pop=resident_pop.groupby(['emd_nm','year','month']).sum()\n",
    "card_spending=card_spending.groupby(['emd_nm','year','month']).sum()\n",
    "korean=korean.groupby(['emd_nm','year','month']).sum()\n",
    "long_term_frgn=long_term_frgn.groupby(['emd_nm','year','month']).sum()"
   ]
  },
  {
   "cell_type": "markdown",
   "metadata": {},
   "source": [
    "<p style='font-size:15px'>각 데이터의 행정동 수 42개로 맞추기(엑셀파일 내에서)</p> "
   ]
  },
  {
   "cell_type": "markdown",
   "metadata": {},
   "source": [
    "<p style='font-size:15px'>수정된 데이터 세트 불러오기</p>"
   ]
  },
  {
   "cell_type": "code",
   "execution_count": null,
   "metadata": {},
   "outputs": [],
   "source": [
    "food_waste=pd.read_csv(r'C:\\Users\\jeongmi\\OneDrive\\바탕 화면\\food_waste.csv',encoding = 'cp949')\n",
    "short_term_frgn=pd.read_csv(r'C:\\Users\\jeongmi\\OneDrive\\바탕 화면\\short_term_frgn.csv',encoding = 'cp949')\n",
    "resident_pop=pd.read_csv(r'C:\\Users\\jeongmi\\OneDrive\\바탕 화면\\resident_pop.csv',encoding = 'cp949')\n",
    "card_spending=pd.read_csv(r'C:\\Users\\jeongmi\\OneDrive\\바탕 화면\\card_spending.csv',encoding = 'cp949')\n",
    "korean=pd.read_csv(r'C:\\Users\\jeongmi\\OneDrive\\바탕 화면\\groupby_KOREAN_2.csv',encoding = 'cp949')\n",
    "long_term_frgn=pd.read_csv(r'C:\\Users\\jeongmi\\OneDrive\\바탕 화면\\groupby_LONG_TERM_FRGN_2.csv',encoding = 'cp949')"
   ]
  },
  {
   "cell_type": "markdown",
   "metadata": {},
   "source": [
    "<p style='font-size:15px'>행정동명 기준으로 오름차순 정렬</p> "
   ]
  },
  {
   "cell_type": "code",
   "execution_count": null,
   "metadata": {},
   "outputs": [],
   "source": [
    "food_waste=food_waste.sort_values(by=['emd_nm'],axis=0)\n",
    "short_term_frgn=short_term_frgn.sort_values(by=['emd_nm'],axis=0)\n",
    "resident_pop=resident_pop.sort_values(by=['emd_nm'],axis=0)\n",
    "card_spending=card_spending.sort_values(by=['emd_nm'],axis=0)\n",
    "korean=korean.sort_values(by=['emd_nm'],axis=0)\n",
    "long_term_frgn=long_term_frgn.sort_values(by=['emd_nm'],axis=0)"
   ]
  },
  {
   "cell_type": "markdown",
   "metadata": {},
   "source": [
    "<p style='font-size:15px'>데이터 세트 합치기 전 연도,월 데이터 제거</p>"
   ]
  },
  {
   "cell_type": "code",
   "execution_count": null,
   "metadata": {},
   "outputs": [],
   "source": [
    "short_term_frgn=short_term_frgn.drop('year', axis=1)\n",
    "short_term_frgn=short_term_frgn.drop('month', axis=1)\n",
    "resident_pop=resident_pop.drop('year', axis=1)\n",
    "resident_pop=resident_pop.drop('month', axis=1)\n",
    "card_spending=card_spending.drop('year', axis=1)\n",
    "card_spending=card_spending.drop('month', axis=1)\n",
    "korean=korean.drop('year', axis=1)\n",
    "korean=korean.drop('month', axis=1)\n",
    "long_term_frgn=long_term_frgn.drop('year', axis=1)\n",
    "long_term_frgn=long_term_frgn.drop('month', axis=1)\n",
    "short_term_frgn=short_term_frgn.drop('emd_nm', axis=1)\n",
    "resident_pop=resident_pop.drop('emd_nm', axis=1)\n",
    "card_spending=card_spending.drop('emd_nm', axis=1)\n",
    "korean=korean.drop('emd_nm', axis=1)\n",
    "long_term_frgn=long_term_frgn.drop('emd_nm', axis=1)"
   ]
  },
  {
   "cell_type": "markdown",
   "metadata": {},
   "source": [
    "<p style='font-size:15px'>행 기준으로 데이터 합치기</p> "
   ]
  },
  {
   "cell_type": "code",
   "execution_count": null,
   "metadata": {},
   "outputs": [],
   "source": [
    "df=pd.concat([food_waste,short_term_frgn,resident_pop,card_spending,korean,long_term_frgn],axis=1)"
   ]
  },
  {
   "cell_type": "markdown",
   "metadata": {},
   "source": [
    "<p style='font-size:15px'>평가용 데이터 생성(전처리된 데이터의 7.8월 데이터 평균)</p>"
   ]
  },
  {
   "cell_type": "code",
   "execution_count": null,
   "metadata": {},
   "outputs": [],
   "source": [
    "#원본 데이터에서 7월 데이터만 \n",
    "data_7=data['month']==7\n",
    "month_7=data[data_7]\n",
    "month_7=month_7.groupby(['emd_nm','month']).mean()\n",
    "#원본데이터에서 8월인 데이터만\n",
    "data_8=data['month']==8\n",
    "month_8=data[data_8]\n",
    "month_8=month_8.groupby(['emd_nm','month']).mean()\n",
    "#평가용 데이터_x 생성\n",
    "month_78=pd.concat([month_7,month_8])\n",
    "month_78.head()"
   ]
  },
  {
   "cell_type": "markdown",
   "metadata": {},
   "source": [
    "<span style='color:#F8766D ; font-size:20px'>데이터 분석 단계(모델 생성)</span>"
   ]
  },
  {
   "cell_type": "markdown",
   "metadata": {},
   "source": [
    "<p style='font-size:15px'>전처리된 데이터 불러오기</p>"
   ]
  },
  {
   "cell_type": "code",
   "execution_count": null,
   "metadata": {},
   "outputs": [],
   "source": [
    "data=pd.read_csv(r\"C:\\Users\\jeongmi\\OneDrive\\바탕 화면\\jeju_df.CSV\",index_col='emd_nm')"
   ]
  },
  {
   "cell_type": "markdown",
   "metadata": {},
   "source": [
    "<p style='font-size:15px'>데이터 결측값 존재 여부, 변수 개수 확인</p>"
   ]
  },
  {
   "cell_type": "code",
   "execution_count": null,
   "metadata": {},
   "outputs": [],
   "source": [
    "jeju_df.isnull().sum()"
   ]
  },
  {
   "cell_type": "code",
   "execution_count": null,
   "metadata": {},
   "outputs": [],
   "source": [
    "nCar = jeju_df.shape[0] # 데이터 개수\n",
    "nVar = jeju_df.shape[1] # 변수 개수\n",
    "print('nCar: %d' % nCar, 'nVar: %d' % nVar)"
   ]
  },
  {
   "cell_type": "markdown",
   "metadata": {},
   "source": [
    "<p style='font-size:15px'>사용한 알고리즘: 랜덤포레스트, LGBM, CatBoost, XGBoost</p>"
   ]
  },
  {
   "cell_type": "markdown",
   "metadata": {},
   "source": [
    "<p style='color:blue;font-size:15px'>랜덤포레스트 코드</p>"
   ]
  },
  {
   "cell_type": "markdown",
   "metadata": {},
   "source": [
    "<p style='font-size:15px'>학습용, 평가용 데이터 분리</p>"
   ]
  },
  {
   "cell_type": "code",
   "execution_count": null,
   "metadata": {},
   "outputs": [],
   "source": [
    "from sklearn.model_selection import train_test_split\n",
    "feature_columns = list(jeju_df.columns.difference(['em_g']))\n",
    "X = jeju_df[feature_columns]\n",
    "y = jeju_df['em_g']\n",
    "\n",
    "train_x, test_x, train_y, test_y = train_test_split(X, y, test_size = 0.2, random_state = 42) # 학습데이터와 평가데이터의 비율을 8:2 로 분할| \n",
    "print(train_x.shape, test_x.shape, train_y.shape, test_y.shape) # 데이터 개수 확인"
   ]
  },
  {
   "cell_type": "markdown",
   "metadata": {},
   "source": [
    "<p style='font-size:15px'>모델 학습, 예측</p>"
   ]
  },
  {
   "cell_type": "code",
   "execution_count": null,
   "metadata": {},
   "outputs": [],
   "source": [
    "from sklearn.ensemble import RandomForestClassifier #분류예측\n",
    "from sklearn.ensemble import RandomForestRegressor  #회귀예측\n",
    "from sklearn.metrics import accuracy_score\n",
    "clf = RandomForestRegressor(n_estimators=100, random_state=42)\n",
    "clf.fit(train_x,train_y)\n",
    "y_pred = clf.predict(test_x)"
   ]
  },
  {
   "cell_type": "markdown",
   "metadata": {},
   "source": [
    "<p style='font-size:15px'>최적의 파라미터 찾기(그리드 서치)</p>"
   ]
  },
  {
   "cell_type": "code",
   "execution_count": null,
   "metadata": {},
   "outputs": [],
   "source": [
    "from sklearn.model_selection import GridSearchCV\n",
    "rf_param_grid = {\n",
    "    'n_estimators' : [100, 200],\n",
    "    'max_depth' : [10, 50,100],\n",
    "    'max_features' : [2, 3],\n",
    "    'min_samples_split' : [8, 10, 12],\n",
    "    'min_samples_leaf' : [3, 4, 5],\n",
    "    'random_state' : [0, 1, 42, 99],\n",
    "    'bootstrap' : [True, False]\n",
    "}\n",
    "rf_grid = GridSearchCV(clf, rf_param_grid,  cv = 3, n_jobs = -1, verbose = 2)\n",
    "rf_grid.fit(train_x, train_y)"
   ]
  },
  {
   "cell_type": "markdown",
   "metadata": {},
   "source": [
    "<p style='font-size:15px'>학습한 모델을 평가용 데이터에 적용</p>"
   ]
  },
  {
   "cell_type": "code",
   "execution_count": null,
   "metadata": {},
   "outputs": [],
   "source": [
    "from sklearn.metrics import r2_score\n",
    "grid_pred_test_y = rf_grid.predict(test_x)\n",
    "grid_pred_test78 = rf_grid.predict(test78_x)\n",
    "print('GridSearchCV 최적 파라미터:', rf_grid.best_params_)\n",
    "print('GridSearchCV 최고 정확도: {0:.4f}'.format(rf_grid.best_score_))\n",
    "r2_train = r2_score(test_y, y_pred)\n",
    "r2_grid_train = r2_score(test_y, grid_pred_test_y)\n",
    "r2_grid_test = r2_score(true_test78, grid_pred_test78)\n",
    "print('R2 - Train: %.3f, Grid_Train: %.3f, Grid_Test: %.3f' %(r2_train, r2_grid_train, r2_grid_test))"
   ]
  },
  {
   "cell_type": "markdown",
   "metadata": {},
   "source": [
    "<p style='color:blue;font-size:15px'>LGBM 코드</p>"
   ]
  },
  {
   "cell_type": "markdown",
   "metadata": {},
   "source": [
    "<p style='font-size:15px'>모델 학습, 예측</p>"
   ]
  },
  {
   "cell_type": "code",
   "execution_count": null,
   "metadata": {},
   "outputs": [],
   "source": [
    "from lightgbm import LGBMClassifier\n",
    "lgbm=LGBMClassifier()\n",
    "lgbm.fit(train_x, train_y)\n",
    "pred_test1 = lgbm.predict(test_x)"
   ]
  },
  {
   "cell_type": "markdown",
   "metadata": {},
   "source": [
    "<p style='font-size:15px'>최적의 파라미터 찾기(그리드 서치)</p>"
   ]
  },
  {
   "cell_type": "code",
   "execution_count": null,
   "metadata": {},
   "outputs": [],
   "source": [
    "from sklearn.model_selection import GridSearchCV\n",
    "param_grid={'n_estimators' : [100, 200],\n",
    "            'max_depth' : [10, 50,100],\n",
    "            'bootstrap' : [True, False]}\n",
    "cv=GridSearchCV(lgbm, param_grid=param_grid, n_jobs = -1, verbose = 2)\n",
    "cv.fit(train_x,train_y)"
   ]
  },
  {
   "cell_type": "markdown",
   "metadata": {},
   "source": [
    "<p style='font-size:15px'>학습한 모델을 평가용 데이터에 적용</p>"
   ]
  },
  {
   "cell_type": "code",
   "execution_count": null,
   "metadata": {},
   "outputs": [],
   "source": [
    "print('최적의 파라미터: {0}'.format(cv.best_params_))\n",
    "print('최고 정확도: {0:.2f}'.format(cv.best_score_))\n",
    "print(\"최고 성능 모델:\", cv.best_estimator_)"
   ]
  },
  {
   "cell_type": "markdown",
   "metadata": {},
   "source": [
    "<p style='color:blue;font-size:15px'>CatBoost 코드</p>"
   ]
  },
  {
   "cell_type": "markdown",
   "metadata": {},
   "source": [
    "<p style='font-size:15px'>모델 학습, 예측</p>"
   ]
  },
  {
   "cell_type": "code",
   "execution_count": null,
   "metadata": {},
   "outputs": [],
   "source": [
    "from catboost import CatBoostRegressor\n",
    "cb_model = CatBoostRegressor(max_depth=2, learning_rate=0.05, n_estimators=150000)\n",
    "cb_model.fit(x_train, y_train)\n",
    "print(\"점수:\",cb_model.best_score_)"
   ]
  },
  {
   "cell_type": "markdown",
   "metadata": {},
   "source": [
    "<p style='color:blue;font-size:15px'>XGBoost 코드</p>"
   ]
  },
  {
   "cell_type": "markdown",
   "metadata": {},
   "source": [
    "<p style='font-size:15px'>모델 학습, 예측</p>"
   ]
  },
  {
   "cell_type": "code",
   "execution_count": null,
   "metadata": {},
   "outputs": [],
   "source": [
    "import xgboost as xgb\n",
    "model = gb=xgb.XGBRegressor()\n",
    "model.fit(train_x,train_y)"
   ]
  },
  {
   "cell_type": "markdown",
   "metadata": {},
   "source": [
    "<p style='font-size:15px'>최적의 파라미터 찾기(그리드 서치)</p>"
   ]
  },
  {
   "cell_type": "code",
   "execution_count": null,
   "metadata": {},
   "outputs": [],
   "source": [
    "from sklearn.model_selection import GridSearchCV\n",
    "param  = {'learning_rate': [0.01, 0.1, 0.25, 0.3], \n",
    "          'n_estimators': [1000, 3000, 5000, 10000],\n",
    "          'max_depth': [3, 4, 5, 6]}\n",
    "cv = GridSearchCV(estimator = model, param_grid = param, scoring =\"neg_mean_absolute_error\", cv = 4)\n",
    "cv.fit(x_train, y_train)\n",
    "print(\"파라미터 : \", cv.best_params_) \n",
    "print(\"점수 : \", cv.best_score_"
   ]
  },
  {
   "cell_type": "markdown",
   "metadata": {},
   "source": [
    "<p style='font-size:15px'>학습한 모델을 평가용 데이터에 적용</p>"
   ]
  },
  {
   "cell_type": "code",
   "execution_count": null,
   "metadata": {},
   "outputs": [],
   "source": [
    "gb=xgb.XGBRegressor(learning_rate = 0.01, max_depth = 6, n_estimators = 15000)\n",
    "gb.fit(x_train, y_train)\n",
    "gb_pred = gb.predict(x_test)\n",
    "gb.score(x_test, y_test)"
   ]
  }
 ],
 "metadata": {
  "kernelspec": {
   "display_name": "Python 3",
   "language": "python",
   "name": "python3"
  },
  "language_info": {
   "codemirror_mode": {
    "name": "ipython",
    "version": 3
   },
   "file_extension": ".py",
   "mimetype": "text/x-python",
   "name": "python",
   "nbconvert_exporter": "python",
   "pygments_lexer": "ipython3",
   "version": "3.8.8"
  }
 },
 "nbformat": 4,
 "nbformat_minor": 4
}
